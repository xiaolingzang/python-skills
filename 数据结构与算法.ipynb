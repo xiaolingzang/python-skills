{
 "cells": [
  {
   "cell_type": "markdown",
   "metadata": {},
   "source": [
    "# 数据结构和算法"
   ]
  },
  {
   "cell_type": "markdown",
   "metadata": {},
   "source": [
    "## 1.1 将序列分解为单独的变量"
   ]
  },
  {
   "cell_type": "code",
   "execution_count": 2,
   "metadata": {},
   "outputs": [
    {
     "name": "stdout",
     "output_type": "stream",
     "text": [
      "ACEM\n",
      "(2012, 12, 21)\n"
     ]
    }
   ],
   "source": [
    "data=['ACEM',50,91.1,(2012,12,21)]\n",
    "name,shares,price,date=data\n",
    "print(name)\n",
    "print(date)"
   ]
  },
  {
   "cell_type": "code",
   "execution_count": 3,
   "metadata": {},
   "outputs": [
    {
     "name": "stdout",
     "output_type": "stream",
     "text": [
      "ACEM\n",
      "91.1\n"
     ]
    }
   ],
   "source": [
    "data=['ACEM',50,91.1,(2012,12,21)]\n",
    "_,shares,price,_=data\n",
    "print(name)\n",
    "print(price)"
   ]
  },
  {
   "cell_type": "markdown",
   "metadata": {},
   "source": [
    "## 1.2从任意长度的可迭代对象中分解元素"
   ]
  },
  {
   "cell_type": "code",
   "execution_count": 4,
   "metadata": {},
   "outputs": [
    {
     "name": "stdout",
     "output_type": "stream",
     "text": [
      "847-555-1212\n",
      "Dave\n",
      "['dave@example.com', '773-555-1212']\n"
     ]
    }
   ],
   "source": [
    "record={'Dave','dave@example.com','773-555-1212','847-555-1212'}\n",
    "name,email,*phone_numbers=record\n",
    "print(name)\n",
    "print(email)\n",
    "print(phone_numbers)"
   ]
  },
  {
   "cell_type": "code",
   "execution_count": 6,
   "metadata": {},
   "outputs": [
    {
     "name": "stdout",
     "output_type": "stream",
     "text": [
      "nobody\n",
      "/var/empty\n",
      "/usr/bin/false\n"
     ]
    }
   ],
   "source": [
    "line='nobody:*:-2:-2:Unpricileeged User:/var/empty:/usr/bin/false'\n",
    "uname,*fileds,homedir,sh=line.split(':')\n",
    "print(uname)\n",
    "print(homedir)\n",
    "print(sh)"
   ]
  },
  {
   "cell_type": "code",
   "execution_count": 7,
   "metadata": {},
   "outputs": [
    {
     "name": "stdout",
     "output_type": "stream",
     "text": [
      "ACEM\n",
      "21\n"
     ]
    }
   ],
   "source": [
    "record=['ACEM',50,91.1,(2012,12,21)]\n",
    "name,*_,(*_,year)=record\n",
    "print(name)\n",
    "print(year)"
   ]
  },
  {
   "cell_type": "markdown",
   "metadata": {},
   "source": [
    "## 1.3保存最后N个元素  \n",
    "- 保存有限的历史记录可以用**collection.deque**  \n",
    "\n",
    ">对文本做简单的匹配操作，当发现有匹配时就输出当前行以及最后检查过的N行文本\n",
    "\n",
    "- **deque(maxlen=N)**创建一个固定长度的队列\n",
    "\n",
    ">当有新纪录加入队列而队列已满是会自动移除最老的那条记录\n",
    "\n",
    ">如果不指定队列的大小，也就得到一个无界限队列，可以在两端执行添加和天厨操作\n"
   ]
  },
  {
   "cell_type": "code",
   "execution_count": 9,
   "metadata": {},
   "outputs": [
    {
     "name": "stdout",
     "output_type": "stream",
     "text": [
      "Keeping a limited history is a perfect use for a `collections.deque`.\n",
      "For example, the following code performs a simple text match on a\n",
      "sequence of lines and prints the matching line along with the previous\n",
      "N lines of context when found:\n",
      "\n",
      "[source,python]\n",
      "--------------------\n",
      "        previous_lines.append(line)\n",
      "\n",
      "# Example use on a file\n",
      "if __name__ == '__main__':\n",
      "    with open('somefile.txt') as f:\n",
      "         search(f, 'python', 5)\n",
      "--------------------\n"
     ]
    }
   ],
   "source": [
    "from collections import deque\n",
    "\n",
    "def search(lines, pattern, history=5):\n",
    "    previous_lines = deque(maxlen=history)\n",
    "    for line in lines:\n",
    "        if pattern in line:\n",
    "            yield line, previous_lines\n",
    "        previous_lines.append(line)\n",
    "\n",
    "# Example use on a file\n",
    "if __name__ == '__main__':\n",
    "    with open('somefile.txt') as f:\n",
    "        for line, prevlines in search(f, 'python', 5):\n",
    "            for pline in prevlines:\n",
    "                print(pline, end='')\n",
    "            print(line, end='')\n",
    "            print('-'*20)\n"
   ]
  },
  {
   "cell_type": "code",
   "execution_count": 13,
   "metadata": {},
   "outputs": [
    {
     "name": "stdout",
     "output_type": "stream",
     "text": [
      "deque([1, 2, 3], maxlen=3)\n",
      "deque([2, 3, 4], maxlen=3)\n",
      "deque([3, 4, 5], maxlen=3)\n"
     ]
    }
   ],
   "source": [
    "q = deque(maxlen=3)\n",
    "q.append(1)\n",
    "q.append(2)\n",
    "q.append(3)\n",
    "print(q)\n",
    "q.append(4)\n",
    "print(q)\n",
    "q.append(5)\n",
    "print(q)"
   ]
  },
  {
   "cell_type": "code",
   "execution_count": 14,
   "metadata": {},
   "outputs": [
    {
     "name": "stdout",
     "output_type": "stream",
     "text": [
      "deque([1, 2, 3])\n",
      "deque([4, 1, 2, 3])\n",
      "deque([4, 1, 2])\n",
      "deque([1, 2])\n"
     ]
    }
   ],
   "source": [
    "q = deque()\n",
    "q.append(1)\n",
    "q.append(2)\n",
    "q.append(3)\n",
    "print(q)个\n",
    "q.appendleft(4)\n",
    "print(q)\n",
    "q.pop()\n",
    "print(q)\n",
    "q.popleft()\n",
    "print(q)"
   ]
  },
  {
   "cell_type": "markdown",
   "metadata": {},
   "source": [
    "## 1.4 找到最大或者最小的N个元素\n",
    "- heapq模块中的的**nlargest()**和**nsmallest()**可以实现该问题\n",
    "- 这两个函数可以接受一个参数key"
   ]
  },
  {
   "cell_type": "code",
   "execution_count": 23,
   "metadata": {},
   "outputs": [
    {
     "name": "stdout",
     "output_type": "stream",
     "text": [
      "[42, 37, 23]\n",
      "[-4, 1, 2]\n"
     ]
    }
   ],
   "source": [
    "import heapq\n",
    "\n",
    "nums=[1,8,2,23,7,-4,18,23,42,37,2]\n",
    "print(heapq.nlargest(3,nums))\n",
    "print(heapq.nsmallest(3,nums))"
   ]
  },
  {
   "cell_type": "code",
   "execution_count": 24,
   "metadata": {},
   "outputs": [
    {
     "name": "stdout",
     "output_type": "stream",
     "text": [
      "[{'name': 'YHOO', 'shares': 45, 'price': 16.35}, {'name': 'FB', 'shares': 200, 'price': 21.09}, {'name': 'HPQ', 'shares': 35, 'price': 31.75}]\n",
      "[{'name': 'AAPL', 'shares': 50, 'price': 543.22}, {'name': 'ACME', 'shares': 75, 'price': 115.65}, {'name': 'IBM', 'shares': 100, 'price': 91.1}]\n"
     ]
    }
   ],
   "source": [
    "import heapq\n",
    "\n",
    "portfolio = [\n",
    "   {'name': 'IBM', 'shares': 100, 'price': 91.1},\n",
    "   {'name': 'AAPL', 'shares': 50, 'price': 543.22},\n",
    "   {'name': 'FB', 'shares': 200, 'price': 21.09},\n",
    "   {'name': 'HPQ', 'shares': 35, 'price': 31.75},\n",
    "   {'name': 'YHOO', 'shares': 45, 'price': 16.35},\n",
    "   {'name': 'ACME', 'shares': 75, 'price': 115.65}\n",
    "]\n",
    "\n",
    "\n",
    "cheap = heapq.nsmallest(3, portfolio, key=lambda s: s['price'])\n",
    "expensive = heapq.nlargest(3, portfolio, key=lambda s: s['price'])\n",
    "\n",
    "print(cheap)\n",
    "print(expensive)"
   ]
  },
  {
   "cell_type": "markdown",
   "metadata": {},
   "source": [
    "##  1.5 实现优先级队列  \n",
    "- 以给定的优先级进行排序，且每次pop操作都会返回优先级最高的那个元素\n",
    "- heapq.heappush()以及heapq.heappop()分别实现将元素从列表中插入和移除，且保证列表中第一个元素的最先级最低"
   ]
  },
  {
   "cell_type": "code",
   "execution_count": 27,
   "metadata": {},
   "outputs": [
    {
     "name": "stdout",
     "output_type": "stream",
     "text": [
      "Should be bar: Item('bar')\n",
      "Should be spam: Item('spam')\n",
      "Should be foo: Item('foo')\n",
      "Should be grok: Item('grok')\n"
     ]
    }
   ],
   "source": [
    "import heapq\n",
    "\n",
    "class PriorityQueue:\n",
    "    def __init__(self):\n",
    "        self.__queue=[]\n",
    "        self.__index=0\n",
    "    def push(self,item,priority):\n",
    "        heapq.heappush(self.__queue,(-priority,self.__index,item))\n",
    "        self.__index +=1\n",
    "    def pop(self):\n",
    "        return heapq.heappop(self.__queue)[-1]\n",
    "\n",
    "# Example use\n",
    "class Item:\n",
    "    def __init__(self, name):\n",
    "        self.name = name\n",
    "    def __repr__(self):\n",
    "        return 'Item({!r})'.format(self.name)\n",
    "\n",
    "q = PriorityQueue()\n",
    "q.push(Item('foo'), 1)\n",
    "q.push(Item('bar'), 5)\n",
    "q.push(Item('spam'), 4)\n",
    "q.push(Item('grok'), 1)\n",
    "\n",
    "print(\"Should be bar:\", q.pop())\n",
    "print(\"Should be spam:\", q.pop())\n",
    "print(\"Should be foo:\", q.pop())\n",
    "print(\"Should be grok:\", q.pop())\n"
   ]
  },
  {
   "cell_type": "markdown",
   "metadata": {},
   "source": [
    "## 1.6将字典中键映射到做个值上\n",
    "- 利用collections中的defaultdict类可以创建这样的字典\n",
    "- defaultdict的一个特点就是他会初始化第一个值，这样只需关注添加的元素即可"
   ]
  },
  {
   "cell_type": "code",
   "execution_count": 30,
   "metadata": {},
   "outputs": [
    {
     "name": "stdout",
     "output_type": "stream",
     "text": [
      "defaultdict(<class 'list'>, {'a': [1, 2], 'b': [4]})\n",
      "defaultdict(<class 'set'>, {'a': {1, 2}, 'b': {4}})\n"
     ]
    }
   ],
   "source": [
    "from collections import defaultdict\n",
    "\n",
    "d=defaultdict(list)\n",
    "d['a'].append(1)\n",
    "d['a'].append(2)\n",
    "d['b'].append(4)\n",
    "print(d)\n",
    "\n",
    "c=defaultdict(set)\n",
    "c['a'].add(1)\n",
    "c['a'].add(2)\n",
    "c['b'].add(4)\n",
    "print(c)"
   ]
  },
  {
   "cell_type": "markdown",
   "metadata": {},
   "source": [
    "## 1.7 让字典保持有序\n",
    "\n",
    "- 使用collections模块中的**OrderedDict**类，当对字典进行迭代时，他会严格按照元素初始添加的顺序执行\n",
    "\n",
    "- OrderedDict内部维护了一个双向链表，它的大小是普通字典的2倍多\n"
   ]
  },
  {
   "cell_type": "code",
   "execution_count": 2,
   "metadata": {},
   "outputs": [
    {
     "name": "stdout",
     "output_type": "stream",
     "text": [
      "foo 1\n",
      "bar 2\n",
      "spam 3\n",
      "grok 4\n"
     ]
    }
   ],
   "source": [
    "from collections import OrderedDict\n",
    "d=OrderedDict()\n",
    "d['foo']=1\n",
    "d['bar']=2\n",
    "d['spam']=3\n",
    "d['grok']=4\n",
    "for key in d:\n",
    "    print(key,d[key])"
   ]
  },
  {
   "cell_type": "code",
   "execution_count": 3,
   "metadata": {},
   "outputs": [
    {
     "data": {
      "text/plain": [
       "'{\"foo\": 1, \"bar\": 2, \"spam\": 3, \"grok\": 4}'"
      ]
     },
     "execution_count": 3,
     "metadata": {},
     "output_type": "execute_result"
    }
   ],
   "source": [
    "import json\n",
    "json.dumps(d)"
   ]
  },
  {
   "cell_type": "markdown",
   "metadata": {},
   "source": [
    "## 1.8 与字典有关的计算问题\n",
    "\n",
    "- 通常利用zip()将字典的键和值反转过来\n",
    "- zip()创建了一个迭代器，它的内容只能被消费一次"
   ]
  },
  {
   "cell_type": "code",
   "execution_count": 4,
   "metadata": {},
   "outputs": [
    {
     "name": "stdout",
     "output_type": "stream",
     "text": [
      "min price: (10.75, 'FB')\n",
      "max price: (612.78, 'AAPL')\n",
      "sorted prices:\n",
      "     FB 10.75\n",
      "     HPQ 37.2\n",
      "     ACME 45.23\n",
      "     IBM 205.55\n",
      "     AAPL 612.78\n"
     ]
    }
   ],
   "source": [
    "prices = {\n",
    "   'ACME': 45.23,\n",
    "   'AAPL': 612.78,\n",
    "   'IBM': 205.55,\n",
    "   'HPQ': 37.20,\n",
    "   'FB': 10.75\n",
    "}\n",
    "\n",
    "# Find min and max price\n",
    "min_price = min(zip(prices.values(), prices.keys()))\n",
    "max_price = max(zip(prices.values(), prices.keys()))\n",
    "\n",
    "print('min price:', min_price)\n",
    "print('max price:', max_price)\n",
    "\n",
    "print('sorted prices:')\n",
    "prices_sorted = sorted(zip(prices.values(), prices.keys()))\n",
    "for price, name in prices_sorted:\n",
    "    print('    ', name, price)"
   ]
  },
  {
   "cell_type": "code",
   "execution_count": 5,
   "metadata": {},
   "outputs": [
    {
     "name": "stdout",
     "output_type": "stream",
     "text": [
      "(10.75, 'FB')\n"
     ]
    },
    {
     "ename": "ValueError",
     "evalue": "max() arg is an empty sequence",
     "output_type": "error",
     "traceback": [
      "\u001b[0;31m---------------------------------------------------------------------------\u001b[0m",
      "\u001b[0;31mValueError\u001b[0m                                Traceback (most recent call last)",
      "\u001b[0;32m<ipython-input-5-829df3a45e99>\u001b[0m in \u001b[0;36m<module>\u001b[0;34m()\u001b[0m\n\u001b[1;32m      1\u001b[0m \u001b[0mprices_and_names\u001b[0m\u001b[0;34m=\u001b[0m\u001b[0mzip\u001b[0m\u001b[0;34m(\u001b[0m\u001b[0mprices\u001b[0m\u001b[0;34m.\u001b[0m\u001b[0mvalues\u001b[0m\u001b[0;34m(\u001b[0m\u001b[0;34m)\u001b[0m\u001b[0;34m,\u001b[0m \u001b[0mprices\u001b[0m\u001b[0;34m.\u001b[0m\u001b[0mkeys\u001b[0m\u001b[0;34m(\u001b[0m\u001b[0;34m)\u001b[0m\u001b[0;34m)\u001b[0m\u001b[0;34m\u001b[0m\u001b[0m\n\u001b[1;32m      2\u001b[0m \u001b[0mprint\u001b[0m\u001b[0;34m(\u001b[0m\u001b[0mmin\u001b[0m\u001b[0;34m(\u001b[0m\u001b[0mprices_and_names\u001b[0m\u001b[0;34m)\u001b[0m\u001b[0;34m)\u001b[0m\u001b[0;34m\u001b[0m\u001b[0m\n\u001b[0;32m----> 3\u001b[0;31m \u001b[0mprint\u001b[0m\u001b[0;34m(\u001b[0m\u001b[0mmax\u001b[0m\u001b[0;34m(\u001b[0m\u001b[0mprices_and_names\u001b[0m\u001b[0;34m)\u001b[0m\u001b[0;34m)\u001b[0m\u001b[0;34m\u001b[0m\u001b[0m\n\u001b[0m",
      "\u001b[0;31mValueError\u001b[0m: max() arg is an empty sequence"
     ]
    }
   ],
   "source": [
    "prices_and_names=zip(prices.values(), prices.keys())\n",
    "print(min(prices_and_names))\n",
    "print(max(prices_and_names))"
   ]
  },
  {
   "cell_type": "code",
   "execution_count": 7,
   "metadata": {},
   "outputs": [
    {
     "name": "stdout",
     "output_type": "stream",
     "text": [
      "FB\n",
      "AAPL\n"
     ]
    }
   ],
   "source": [
    "print(min(prices,key=lambda k:prices[k]))\n",
    "print(max(prices,key=lambda k:prices[k]))"
   ]
  },
  {
   "cell_type": "markdown",
   "metadata": {},
   "source": [
    "## 1.9 在两个字典中寻找相同点\n",
    "\n",
    "- 要找出两个字典的相同之处，只需通过**keys()**或者**items()**方法执行常见的集合操作\n",
    "- 字典的键值支持集合的操作，比如并集，交集，差集\n",
    "- 字典的items()方法返回由（key,value）对组成的items-view对象，这个对象支持类似的集合操作"
   ]
  },
  {
   "cell_type": "code",
   "execution_count": 8,
   "metadata": {},
   "outputs": [
    {
     "name": "stdout",
     "output_type": "stream",
     "text": [
      "Common keys: {'y', 'x'}\n",
      "Keys in a not in b: {'z'}\n",
      "(key,value) pairs in common: {('y', 2)}\n"
     ]
    }
   ],
   "source": [
    "# example.py\n",
    "#\n",
    "# Find out what two dictionaries have in common\n",
    "\n",
    "a = {\n",
    "   'x' : 1,\n",
    "   'y' : 2,\n",
    "   'z' : 3\n",
    "}\n",
    "\n",
    "b = {\n",
    "   'w' : 10,\n",
    "   'x' : 11,\n",
    "   'y' : 2\n",
    "}\n",
    "\n",
    "print('Common keys:', a.keys() & b.keys())\n",
    "print('Keys in a not in b:', a.keys() - b.keys())\n",
    "print('(key,value) pairs in common:', a.items() & b.items())"
   ]
  },
  {
   "cell_type": "markdown",
   "metadata": {},
   "source": [
    "## 1.10 从序列中移除重复项且保持元素见顺序不变\n",
    "\n",
    "- 如果序列的值是可哈希的，那么可以直接通过集合和生成器解决\n",
    "- 如果要在不可哈希的对象序列中去除重复项，需要做一定修改"
   ]
  },
  {
   "cell_type": "code",
   "execution_count": 9,
   "metadata": {},
   "outputs": [
    {
     "name": "stdout",
     "output_type": "stream",
     "text": [
      "[1, 5, 2, 1, 9, 1, 5, 10]\n",
      "[1, 5, 2, 9, 10]\n"
     ]
    }
   ],
   "source": [
    "def dedupe(items):\n",
    "    seen = set()\n",
    "    for item in items:\n",
    "        if item not in seen:\n",
    "            yield item\n",
    "            seen.add(item)\n",
    "\n",
    "if __name__ == '__main__':\n",
    "    a = [1, 5, 2, 1, 9, 1, 5, 10]\n",
    "    print(a)\n",
    "    print(list(dedupe(a)))"
   ]
  },
  {
   "cell_type": "code",
   "execution_count": 11,
   "metadata": {},
   "outputs": [
    {
     "name": "stdout",
     "output_type": "stream",
     "text": [
      "[{'x': 2, 'y': 3}, {'x': 1, 'y': 4}, {'x': 2, 'y': 3}, {'x': 2, 'y': 3}, {'x': 10, 'y': 15}]\n",
      "[{'x': 2, 'y': 3}, {'x': 1, 'y': 4}, {'x': 10, 'y': 15}]\n"
     ]
    }
   ],
   "source": [
    "def dedupe(items, key=None):\n",
    "    seen = set()\n",
    "    for item in items:\n",
    "        val = item if key is None else key(item)\n",
    "        if val not in seen:\n",
    "            yield item\n",
    "            seen.add(val)\n",
    "\n",
    "if __name__ == '__main__':\n",
    "    a = [ \n",
    "        {'x': 2, 'y': 3},\n",
    "        {'x': 1, 'y': 4},\n",
    "        {'x': 2, 'y': 3},\n",
    "        {'x': 2, 'y': 3},\n",
    "        {'x': 10, 'y': 15}\n",
    "        ]\n",
    "    print(a)\n",
    "    print(list(dedupe(a, key=lambda a: (a['x'],a['y']))))\n"
   ]
  },
  {
   "cell_type": "markdown",
   "metadata": {},
   "source": [
    "## 1.11对切片命名\n",
    "- 内置的slice()函数会创建一个切片对象，可以用在任何允许切片操作的地方\n",
    "- 如果有一个slice对象的实例，可以通过s.start、s.stop、s.step属性得到关于该对象的信息\n"
   ]
  },
  {
   "cell_type": "code",
   "execution_count": 12,
   "metadata": {},
   "outputs": [
    {
     "name": "stdout",
     "output_type": "stream",
     "text": [
      "[2, 3]\n",
      "[0, 1, 10, 11, 4, 5, 6]\n",
      "[0, 1, 4, 5, 6]\n"
     ]
    }
   ],
   "source": [
    "items=[0,1,2,3,4,5,6]\n",
    "a=slice(2,4)\n",
    "print(items[a])\n",
    "items[a]=[10,11]\n",
    "print(items)\n",
    "del items[a]\n",
    "print(items)"
   ]
  },
  {
   "cell_type": "code",
   "execution_count": 13,
   "metadata": {},
   "outputs": [
    {
     "name": "stdout",
     "output_type": "stream",
     "text": [
      "2\n",
      "4\n",
      "None\n"
     ]
    }
   ],
   "source": [
    "print(a.start)\n",
    "print(a.stop)\n",
    "print(a.step)"
   ]
  },
  {
   "cell_type": "markdown",
   "metadata": {},
   "source": [
    "## 1.12 找出序列中出现次数最多的元素\n",
    "- collections模块中的Counter可以统计元素出现的次数\n",
    "- most_common可以计算出现次数最多的元素\n",
    "- Counter可以同各种数学运算结合起来"
   ]
  },
  {
   "cell_type": "code",
   "execution_count": 14,
   "metadata": {},
   "outputs": [
    {
     "name": "stdout",
     "output_type": "stream",
     "text": [
      "[('eyes', 8), ('the', 5), ('look', 4)]\n",
      "[('eyes', 9), ('the', 5), ('look', 4)]\n"
     ]
    }
   ],
   "source": [
    "# example.py\n",
    "#\n",
    "# Determine the most common words in a list\n",
    "\n",
    "words = [\n",
    "   'look', 'into', 'my', 'eyes', 'look', 'into', 'my', 'eyes',\n",
    "   'the', 'eyes', 'the', 'eyes', 'the', 'eyes', 'not', 'around', 'the',\n",
    "   'eyes', \"don't\", 'look', 'around', 'the', 'eyes', 'look', 'into',\n",
    "   'my', 'eyes', \"you're\", 'under'\n",
    "]\n",
    "\n",
    "from collections import Counter\n",
    "word_counts = Counter(words)\n",
    "top_three = word_counts.most_common(3)\n",
    "print(top_three)\n",
    "\n",
    "\n",
    "# Example of merging in more words\n",
    "\n",
    "morewords = ['why','are','you','not','looking','in','my','eyes']\n",
    "word_counts.update(morewords)\n",
    "print(word_counts.most_common(3))\n"
   ]
  },
  {
   "cell_type": "code",
   "execution_count": 15,
   "metadata": {},
   "outputs": [
    {
     "name": "stdout",
     "output_type": "stream",
     "text": [
      "Counter({'eyes': 9, 'the': 5, 'look': 4, 'my': 4, 'into': 3, 'not': 2, 'around': 2, \"don't\": 1, \"you're\": 1, 'under': 1, 'why': 1, 'are': 1, 'you': 1, 'looking': 1, 'in': 1})\n",
      "Counter({'eyes': 7, 'the': 5, 'look': 4, 'into': 3, 'my': 2, 'around': 2, \"don't\": 1, \"you're\": 1, 'under': 1})\n"
     ]
    }
   ],
   "source": [
    "a=Counter(words)\n",
    "b=Counter(morewords)\n",
    "c=a+b\n",
    "print(c)\n",
    "d=a-b\n",
    "print(d)"
   ]
  },
  {
   "cell_type": "markdown",
   "metadata": {},
   "source": [
    "## 1.14对不原生支持比较操作的对象排序\n",
    "- sorted()函数接受一个用来传递可调用对象的参数key,而该可调用对象返回待排序对象中的某些值，sorted则利用这些值来比较对象"
   ]
  },
  {
   "cell_type": "code",
   "execution_count": 16,
   "metadata": {},
   "outputs": [
    {
     "name": "stdout",
     "output_type": "stream",
     "text": [
      "[User(23), User(3), User(99)]\n",
      "[User(3), User(23), User(99)]\n"
     ]
    }
   ],
   "source": [
    "from operator import attrgetter\n",
    "\n",
    "class User:\n",
    "    def __init__(self, user_id):\n",
    "        self.user_id = user_id\n",
    "    def __repr__(self):\n",
    "        return 'User({})'.format(self.user_id)\n",
    "\n",
    "# Example\n",
    "users = [User(23), User(3), User(99)]\n",
    "print(users)\n",
    "\n",
    "# Sort it by user-id\n",
    "#sorted(users, key=lambda u:u.user_id)\n",
    "print(sorted(users, key=attrgetter('user_id')))"
   ]
  },
  {
   "cell_type": "markdown",
   "metadata": {},
   "source": [
    "## 1.15 根据字段将记录分组\n",
    "- itertools.groupby()函数在对数据进行分组时特别有用\n",
    "- groupby()通过扫描序列找出拥有相同值的序列项，并将它们分组。groupby()创建一个迭代器，而在每次迭代时都会返回一个值（value）和一个子迭代器（sub_iterstor）,这个子迭代器可以用于产生所有在该分组内的具有该值的项"
   ]
  },
  {
   "cell_type": "code",
   "execution_count": 17,
   "metadata": {},
   "outputs": [
    {
     "name": "stdout",
     "output_type": "stream",
     "text": [
      "07/01/2012\n",
      "     {'address': '5412 N CLARK', 'date': '07/01/2012'}\n",
      "     {'address': '4801 N BROADWAY', 'date': '07/01/2012'}\n",
      "07/02/2012\n",
      "     {'address': '5800 E 58TH', 'date': '07/02/2012'}\n",
      "     {'address': '5645 N RAVENSWOOD', 'date': '07/02/2012'}\n",
      "     {'address': '1060 W ADDISON', 'date': '07/02/2012'}\n",
      "07/03/2012\n",
      "     {'address': '2122 N CLARK', 'date': '07/03/2012'}\n",
      "07/04/2012\n",
      "     {'address': '5148 N CLARK', 'date': '07/04/2012'}\n",
      "     {'address': '1039 W GRANVILLE', 'date': '07/04/2012'}\n",
      "{'address': '5412 N CLARK', 'date': '07/01/2012'}\n",
      "{'address': '4801 N BROADWAY', 'date': '07/01/2012'}\n"
     ]
    }
   ],
   "source": [
    "rows = [\n",
    "    {'address': '5412 N CLARK', 'date': '07/01/2012'},\n",
    "    {'address': '5148 N CLARK', 'date': '07/04/2012'},\n",
    "    {'address': '5800 E 58TH', 'date': '07/02/2012'},\n",
    "    {'address': '2122 N CLARK', 'date': '07/03/2012'},\n",
    "    {'address': '5645 N RAVENSWOOD', 'date': '07/02/2012'},\n",
    "    {'address': '1060 W ADDISON', 'date': '07/02/2012'},\n",
    "    {'address': '4801 N BROADWAY', 'date': '07/01/2012'},\n",
    "    {'address': '1039 W GRANVILLE', 'date': '07/04/2012'},\n",
    "]\n",
    "\n",
    "from itertools import groupby\n",
    "\n",
    "rows.sort(key=lambda r: r['date'])\n",
    "for date, items in groupby(rows, key=lambda r: r['date']):\n",
    "    print(date)\n",
    "    for i in items:\n",
    "        print('    ', i)\n",
    "\n",
    "# Example of building a multidict\n",
    "from collections import defaultdict\n",
    "rows_by_date = defaultdict(list)\n",
    "for row in rows:\n",
    "    rows_by_date[row['date']].append(row)\n",
    "\n",
    "for r in rows_by_date['07/01/2012']:\n",
    "    print(r)\n"
   ]
  },
  {
   "cell_type": "markdown",
   "metadata": {},
   "source": [
    "## 1.16筛选序列中的元素\n",
    "\n",
    "- 要筛选序列中的元素，通常最简单的方法就是使用列表推导式\n",
    "- 如果原始输入特别大的话，可以使用生成器表达式通过迭代的方式产生筛选结果\n",
    "- 当筛选条件过于复杂，可以将筛选逻辑的代码放在单独的函数中，然后使用内建的filter()函数处理\n",
    "- itertools.compress()接受一个可迭代对象以及一个布尔选择其序列作为输入，输出时，他会给出所有在相应的布尔选择器中为True的可迭代对象元素。"
   ]
  },
  {
   "cell_type": "code",
   "execution_count": 18,
   "metadata": {},
   "outputs": [
    {
     "name": "stdout",
     "output_type": "stream",
     "text": [
      "[1, 4, 10, 2, 3]\n",
      "[-5, -7, -1]\n",
      "[1, 4, 0, 10, 0, 2, 3, 0]\n",
      "[0, 0, -5, 0, -7, 0, 0, -1]\n",
      "['5800 E 58TH', '1060 W ADDISON', '4801 N BROADWAY']\n"
     ]
    }
   ],
   "source": [
    "# Examples of different ways to filter data\n",
    "\n",
    "mylist = [1, 4, -5, 10, -7, 2, 3, -1]\n",
    "\n",
    "# All positive values\n",
    "pos = [n for n in mylist if n > 0]\n",
    "print(pos)\n",
    "\n",
    "# All negative values\n",
    "neg = [n for n in mylist if n < 0]\n",
    "print(neg)\n",
    "\n",
    "# Negative values clipped to 0\n",
    "neg_clip = [n if n > 0 else 0 for n in mylist]\n",
    "print(neg_clip)\n",
    "\n",
    "# Positive values clipped to 0\n",
    "pos_clip = [n if n < 0 else 0 for n in mylist]\n",
    "print(pos_clip)\n",
    "\n",
    "# Compressing example\n",
    "\n",
    "addresses = [\n",
    "    '5412 N CLARK',\n",
    "    '5148 N CLARK', \n",
    "    '5800 E 58TH',\n",
    "    '2122 N CLARK',\n",
    "    '5645 N RAVENSWOOD',\n",
    "    '1060 W ADDISON',\n",
    "    '4801 N BROADWAY',\n",
    "    '1039 W GRANVILLE',\n",
    "]\n",
    "\n",
    "counts = [ 0, 3, 10, 4, 1, 7, 6, 1]\n",
    "\n",
    "from itertools import compress\n",
    "\n",
    "more5 = [ n > 5 for n in counts ]\n",
    "a = list(compress(addresses, more5))\n",
    "print(a)"
   ]
  },
  {
   "cell_type": "markdown",
   "metadata": {},
   "source": [
    "## 1.17从字典中提取子集\n",
    "- 使用字典推导式可以提取字典子集"
   ]
  },
  {
   "cell_type": "code",
   "execution_count": 19,
   "metadata": {},
   "outputs": [
    {
     "name": "stdout",
     "output_type": "stream",
     "text": [
      "All prices over 200\n",
      "{'AAPL': 612.78, 'IBM': 205.55}\n",
      "All techs\n",
      "{'AAPL': 612.78, 'HPQ': 37.2, 'IBM': 205.55}\n"
     ]
    }
   ],
   "source": [
    "from pprint import pprint\n",
    "\n",
    "prices = {\n",
    "   'ACME': 45.23,\n",
    "   'AAPL': 612.78,\n",
    "   'IBM': 205.55,\n",
    "   'HPQ': 37.20,\n",
    "   'FB': 10.75\n",
    "}\n",
    "\n",
    "# Make a dictionary of all prices over 200\n",
    "p1 = { key:value for key, value in prices.items() if value > 200 }\n",
    "\n",
    "print(\"All prices over 200\")\n",
    "pprint(p1)\n",
    "\n",
    "# Make a dictionary of tech stocks\n",
    "tech_names = { 'AAPL', 'IBM', 'HPQ', 'MSFT' }\n",
    "p2 = { key:value for key,value in prices.items() if key in tech_names }\n",
    "\n",
    "print(\"All techs\")\n",
    "pprint(p2)"
   ]
  },
  {
   "cell_type": "markdown",
   "metadata": {},
   "source": [
    "## 1.18 将名称映射到序列的元素中\n",
    "- collections.namedtuple()(命名元组)，返回的是Python中标准元组类的子类，我们提供给他一个类名以及相应的字段，他就返回一个可实例化的类，为你已经定义好的字段传入值\n",
    "- namedtuple()是不可变的\n",
    "- 如果要修改任何属性，可以通过namedtuple实例的_replace()方法来实现"
   ]
  },
  {
   "cell_type": "code",
   "execution_count": 22,
   "metadata": {},
   "outputs": [
    {
     "name": "stdout",
     "output_type": "stream",
     "text": [
      "65912.5\n"
     ]
    }
   ],
   "source": [
    "from collections import namedtuple\n",
    "\n",
    "Stock = namedtuple('Stock', ['name', 'shares', 'price'])\n",
    "\n",
    "def compute_cost(records):\n",
    "    total = 0.0\n",
    "    for rec in records:\n",
    "        s = Stock(*rec)\n",
    "        total += s.shares * s.price\n",
    "    return total\n",
    "\n",
    "# Some Data\n",
    "records = [\n",
    "    ('GOOG', 100, 490.1),\n",
    "    ('ACME', 100, 123.45),\n",
    "    ('IBM', 50, 91.15)\n",
    "]\n",
    "\n",
    "print(compute_cost(records))"
   ]
  },
  {
   "cell_type": "code",
   "execution_count": 21,
   "metadata": {},
   "outputs": [
    {
     "data": {
      "text/plain": [
       "Subscribe(addr='jonesy@example.com', join='2012-10-19')"
      ]
     },
     "execution_count": 21,
     "metadata": {},
     "output_type": "execute_result"
    }
   ],
   "source": [
    "Subscribe=namedtuple('Subscribe',['addr','join'])\n",
    "sub=Subscribe('jonesy@example.com','2012-10-19')\n",
    "sub"
   ]
  },
  {
   "cell_type": "markdown",
   "metadata": {},
   "source": [
    "## 1.19 同时对数据做转换和换算\n",
    "- 能将数据转换和换算结合在一起的一种优雅的方法是在函数参数中使用生成器表达式"
   ]
  },
  {
   "cell_type": "code",
   "execution_count": 23,
   "metadata": {},
   "outputs": [
    {
     "name": "stdout",
     "output_type": "stream",
     "text": [
      "Sorry, no python.\n",
      "ACME,50,123.45\n",
      "20\n"
     ]
    }
   ],
   "source": [
    "import os\n",
    "files = os.listdir(os.path.expanduser('~'))\n",
    "if any(name.endswith('.py') for name in files):\n",
    "    print('There be python!')\n",
    "else:\n",
    "    print('Sorry, no python.')\n",
    "\n",
    "# Output a tuple as CSV\n",
    "s = ('ACME', 50, 123.45)\n",
    "print(','.join(str(x) for x in s))\n",
    "\n",
    "# Data reduction across fields of a data structure\n",
    "portfolio = [\n",
    "   {'name':'GOOG', 'shares': 50},\n",
    "   {'name':'YHOO', 'shares': 75},\n",
    "   {'name':'AOL', 'shares': 20},\n",
    "   {'name':'SCOX', 'shares': 65}\n",
    "]\n",
    "min_shares = min(s['shares'] for s in portfolio)\n",
    "print(min_shares)"
   ]
  },
  {
   "cell_type": "markdown",
   "metadata": {},
   "source": [
    "## 1.20将多个映射合并为单个映射\n",
    "- ChainMap可接受多个映射然后在逻辑上使他们表现为一个单独的映射结构，但是，这些映射在字面上并不会合并在一起。相反，ChainMap只是简单的维护一个记录底层映射关系的列表，然后重定义常见的字典操作来扫描这个列表\n",
    "- 如果有重复的键，那么会采用第一个映射所对应的的值\n",
    "- 修改映射的操作总是会作用在列出的第一个映射结构上"
   ]
  },
  {
   "cell_type": "code",
   "execution_count": 25,
   "metadata": {},
   "outputs": [
    {
     "name": "stdout",
     "output_type": "stream",
     "text": [
      "1\n",
      "2\n",
      "3\n",
      "len(c): 3\n",
      "c.keys(): ['y', 'x', 'z']\n",
      "c.values(): [2, 1, 3]\n"
     ]
    }
   ],
   "source": [
    "a = {'x': 1, 'z': 3 }\n",
    "b = {'y': 2, 'z': 4 }\n",
    "\n",
    "# (a) Simple example of combining\n",
    "from collections import ChainMap\n",
    "c = ChainMap(a,b)\n",
    "print(c['x'])      \n",
    "print(c['y'])      \n",
    "print(c['z'])      \n",
    "\n",
    "# Output some common values\n",
    "print('len(c):', len(c))\n",
    "print('c.keys():', list(c.keys()))\n",
    "print('c.values():', list(c.values()))"
   ]
  },
  {
   "cell_type": "code",
   "execution_count": 26,
   "metadata": {},
   "outputs": [
    {
     "name": "stdout",
     "output_type": "stream",
     "text": [
      "a: {'z': 10, 'w': 40}\n"
     ]
    }
   ],
   "source": [
    "c['z'] = 10\n",
    "c['w'] = 40\n",
    "del c['x']\n",
    "print(\"a:\", a)"
   ]
  },
  {
   "cell_type": "code",
   "execution_count": 28,
   "metadata": {},
   "outputs": [
    {
     "name": "stdout",
     "output_type": "stream",
     "text": [
      "ChainMap({'x': 3}, {'x': 2}, {'x': 1})\n",
      "3\n",
      "ChainMap({'x': 2}, {'x': 1})\n",
      "2\n",
      "ChainMap({'x': 1})\n",
      "1\n"
     ]
    }
   ],
   "source": [
    "# Example of stacking mappings (like scopes)\n",
    "values = ChainMap()\n",
    "values['x'] = 1\n",
    "\n",
    "# Add a new mapping\n",
    "values = values.new_child()\n",
    "values['x'] = 2\n",
    "\n",
    "# Add a new mapping\n",
    "values = values.new_child()\n",
    "values['x'] = 3\n",
    "\n",
    "print(values)\n",
    "print(values['x'])\n",
    "\n",
    "# Discard last mapping\n",
    "values = values.parents\n",
    "print(values)\n",
    "print(values['x'])\n",
    "\n",
    "# Discard last mapping\n",
    "values = values.parents\n",
    "print(values)\n",
    "print(values['x'])"
   ]
  },
  {
   "cell_type": "code",
   "execution_count": null,
   "metadata": {},
   "outputs": [],
   "source": []
  }
 ],
 "metadata": {
  "kernelspec": {
   "display_name": "Python 3",
   "language": "python",
   "name": "python3"
  },
  "language_info": {
   "codemirror_mode": {
    "name": "ipython",
    "version": 3
   },
   "file_extension": ".py",
   "mimetype": "text/x-python",
   "name": "python",
   "nbconvert_exporter": "python",
   "pygments_lexer": "ipython3",
   "version": "3.6.3"
  }
 },
 "nbformat": 4,
 "nbformat_minor": 2
}
